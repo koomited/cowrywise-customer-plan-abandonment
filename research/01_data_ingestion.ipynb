{
 "cells": [
  {
   "cell_type": "code",
   "execution_count": 1,
   "metadata": {},
   "outputs": [],
   "source": [
    "import os"
   ]
  },
  {
   "cell_type": "code",
   "execution_count": 2,
   "metadata": {},
   "outputs": [
    {
     "data": {
      "text/plain": [
       "'/home/tousside/Documents/recrutement/cowrywise-customer-plan-abandonment/research'"
      ]
     },
     "execution_count": 2,
     "metadata": {},
     "output_type": "execute_result"
    }
   ],
   "source": [
    "%pwd"
   ]
  },
  {
   "cell_type": "code",
   "execution_count": 3,
   "metadata": {},
   "outputs": [],
   "source": [
    "os.chdir(\"../\")"
   ]
  },
  {
   "cell_type": "code",
   "execution_count": 4,
   "metadata": {},
   "outputs": [
    {
     "data": {
      "text/plain": [
       "'/home/tousside/Documents/recrutement/cowrywise-customer-plan-abandonment'"
      ]
     },
     "execution_count": 4,
     "metadata": {},
     "output_type": "execute_result"
    }
   ],
   "source": [
    "%pwd"
   ]
  },
  {
   "cell_type": "code",
   "execution_count": 5,
   "metadata": {},
   "outputs": [],
   "source": [
    "from dataclasses import dataclass\n",
    "from pathlib import Path\n",
    "\n",
    "\n",
    "@dataclass(frozen=True)\n",
    "class DataIngestionConfig:\n",
    "    root_dir: Path\n",
    "    host: str\n",
    "    port: str\n",
    "    user: str\n",
    "    password: str\n",
    "    database_name: str\n",
    "    sql_query: str\n",
    "    local_data_file: Path"
   ]
  },
  {
   "cell_type": "code",
   "execution_count": 6,
   "metadata": {},
   "outputs": [],
   "source": [
    "from mlProject.constants import *\n",
    "from mlProject.utils.common import read_yaml, create_directories, read_sql_file"
   ]
  },
  {
   "cell_type": "code",
   "execution_count": 7,
   "metadata": {},
   "outputs": [],
   "source": [
    "class ConfigurationManager:\n",
    "    def __init__(self,\n",
    "                 config_filepath: str = CONFIG_FILE_PATH,\n",
    "                 params_filepath: str = PARAMS_FILE_PATH,\n",
    "                 schema_filepath: str = SCHEMA_FILE_PATH,\n",
    "                 sql_filepath: str = DATA_FECTH_SQL_PATH,\n",
    "                 ):\n",
    "                self.config = read_yaml(config_filepath)\n",
    "                self.params = read_yaml(params_filepath)\n",
    "                self.schema = read_yaml(schema_filepath)\n",
    "                self.sql_query = read_sql_file(sql_filepath)\n",
    "                create_directories([self.config.artifacts_root])\n",
    "    def get_data_ingestion_config(self) -> DataIngestionConfig:\n",
    "        config = self.config.data_ingestion\n",
    "        create_directories([config.root_dir])\n",
    "        data_ingestion_config = DataIngestionConfig(\n",
    "            root_dir=Path(config.root_dir),\n",
    "            host=config.host,\n",
    "            port=config.port,\n",
    "            user=config.user,\n",
    "            password=config.password,\n",
    "            database_name=config.database_name,\n",
    "            sql_query=self.sql_query,\n",
    "            local_data_file=Path(config.local_data_file)\n",
    "        )\n",
    "        return data_ingestion_config\n",
    "                "
   ]
  },
  {
   "cell_type": "code",
   "execution_count": 8,
   "metadata": {},
   "outputs": [],
   "source": [
    "import mysql.connector\n",
    "import pandas as pd\n",
    "from mlProject.utils.common import get_size\n",
    "from mlProject import logger\n",
    "import warnings\n",
    "warnings.filterwarnings(\"ignore\")\n"
   ]
  },
  {
   "cell_type": "code",
   "execution_count": 9,
   "metadata": {},
   "outputs": [],
   "source": [
    "class DataIngestion:\n",
    "    def __init__(self, config: DataIngestionConfig):\n",
    "        self.config = config\n",
    "\n",
    "    def connect_to_database(self,\n",
    "        host: str = \"localhost\",\n",
    "        port: str = \"3307\",\n",
    "        user: str = \"root\",\n",
    "        password: str = \"mysecret\",\n",
    "        database: str = \"adashi_staging\"\n",
    "    ):\n",
    "        \"\"\"\n",
    "        Establishes and returns a MySQL database connection if successful.\n",
    "\n",
    "        Args:\n",
    "            host (str): Database host address.\n",
    "            port (str): Port number.\n",
    "            user (str): Database username.\n",
    "            password (str): Database password.\n",
    "            database (str): Database name.\n",
    "\n",
    "        Returns:\n",
    "            MySQLConnection: A valid MySQL connection object.\n",
    "\n",
    "        Raises:\n",
    "            Error: If the connection fails.\n",
    "        \"\"\"\n",
    "        try:\n",
    "            conn = mysql.connector.connect(\n",
    "                host=host,\n",
    "                port=port,\n",
    "                user=user,\n",
    "                password=password,\n",
    "                database=database\n",
    "            )\n",
    "            if conn.is_connected():\n",
    "                logger.info(\"Database connection established successfully.\")\n",
    "                return conn\n",
    "            else:\n",
    "                logger.error(\"Failed to connect to the database.\")\n",
    "        except Exception as e:\n",
    "            logger.error(f\"Database connection failed: {e}\")\n",
    "\n",
    "    def retrieve_data(self):\n",
    "        connection = self.connect_to_database(\n",
    "            host=self.config.host,\n",
    "            port=self.config.port,\n",
    "            user=self.config.user,\n",
    "            password=self.config.password,\n",
    "            database=self.config.database_name\n",
    "        )\n",
    "        if not os.path.exists(self.config.local_data_file):\n",
    "            data = pd.read_sql(self.config.sql_query, connection)\n",
    "            data.to_csv(self.config.local_data_file, index=False)\n",
    "            logger.info(f\"data fetched with following info: shape:{data.shape}\")\n",
    "        else:\n",
    "            logger.info(f\"File already exists with size: {get_size(Path(self.config.local_data_file))} bytes\")\n",
    "            \n",
    "        connection.close()\n",
    "        "
   ]
  },
  {
   "cell_type": "code",
   "execution_count": 10,
   "metadata": {},
   "outputs": [
    {
     "name": "stdout",
     "output_type": "stream",
     "text": [
      "[2025-05-27 16:35:00,196: INFO: common: yaml file: config/config.yaml loaded successfully]\n",
      "[2025-05-27 16:35:00,198: INFO: common: yaml file: params.yaml loaded successfully]\n",
      "[2025-05-27 16:35:00,198: INFO: common: yaml file: schema.yaml loaded successfully]\n",
      "[2025-05-27 16:35:00,199: INFO: common: SQL file 'sql_queries/data_fetch.sql' loaded successfully.]\n",
      "[2025-05-27 16:35:00,200: INFO: common: created directory at: artifacts]\n",
      "[2025-05-27 16:35:00,200: INFO: common: created directory at: artifacts/data_ingestion]\n",
      "[2025-05-27 16:35:00,251: INFO: 1131048647: Database connection established successfully.]\n",
      "[2025-05-27 16:35:00,252: INFO: 1131048647: File already exists with size: ~ 321 KB bytes]\n"
     ]
    }
   ],
   "source": [
    "try:\n",
    "    config = ConfigurationManager()\n",
    "    data_ingestion_config = config.get_data_ingestion_config()\n",
    "    data_ingestion = DataIngestion(config=data_ingestion_config)\n",
    "    data_ingestion.retrieve_data()\n",
    "except Exception as e:\n",
    "    raise e"
   ]
  },
  {
   "cell_type": "code",
   "execution_count": null,
   "metadata": {},
   "outputs": [],
   "source": []
  }
 ],
 "metadata": {
  "kernelspec": {
   "display_name": "venv",
   "language": "python",
   "name": "python3"
  },
  "language_info": {
   "codemirror_mode": {
    "name": "ipython",
    "version": 3
   },
   "file_extension": ".py",
   "mimetype": "text/x-python",
   "name": "python",
   "nbconvert_exporter": "python",
   "pygments_lexer": "ipython3",
   "version": "3.12.3"
  }
 },
 "nbformat": 4,
 "nbformat_minor": 2
}
